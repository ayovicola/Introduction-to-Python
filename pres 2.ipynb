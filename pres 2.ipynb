{
 "cells": [
  {
   "cell_type": "code",
   "execution_count": 2,
   "metadata": {},
   "outputs": [
    {
     "name": "stdout",
     "output_type": "stream",
     "text": [
      "IDIKA DESKTOP\n"
     ]
    },
    {
     "name": "stdin",
     "output_type": "stream",
     "text": [
      "Do you want to sign in?   yes\n"
     ]
    },
    {
     "name": "stdout",
     "output_type": "stream",
     "text": [
      "yes\n",
      "okay!\n"
     ]
    },
    {
     "name": "stdin",
     "output_type": "stream",
     "text": [
      "Type your username or Q to quit Q\n"
     ]
    }
   ],
   "source": [
    "print(\"IDIKA DESKTOP\")\n",
    "\n",
    "names = [\"Ayo\",\" Joy\", \"Sofie\",\" Abe\"]\n",
    "\n",
    "playing = input(\"Do you want to sign in?  \")\n",
    "print (playing)\n",
    "\n",
    "if playing ==\"yes\":\n",
    "    print(\"okay!\")\n",
    "else:\n",
    "     quit()\n",
    "    \n",
    "while True:\n",
    "    Input = input(\"Type your username or Q to quit\")\n",
    "    if Input == \"Q\":\n",
    "        break\n",
    "        \n",
    "    if Input == \"Ayo\":\n",
    "         print(\" Welcome to your Desktop AYO😊✌! \\n You belong to Data Science class \")\n",
    "        \n",
    "    elif Input == \"Joy\":\n",
    "        print(\" Welcome to your Desktop JOY😊✌! \\n You belong to coding class \")\n",
    "        \n",
    "    elif Input == \"Sofie\":\n",
    "         print(\"Welcome to your Desktop SOFIE😊✌! \\n You belong to creative Design class\")\n",
    "           \n",
    "        \n",
    "    elif Input == \"Abe\":\n",
    "         print(\"Welcome to your Desktop Abe😊✌! \\n You belong to creative Design class\")   \n",
    "            \n",
    "    else:\n",
    "        print(\"You are not yet registered!\")"
   ]
  },
  {
   "cell_type": "code",
   "execution_count": null,
   "metadata": {},
   "outputs": [],
   "source": []
  }
 ],
 "metadata": {
  "kernelspec": {
   "display_name": "Python 3",
   "language": "python",
   "name": "python3"
  },
  "language_info": {
   "codemirror_mode": {
    "name": "ipython",
    "version": 3
   },
   "file_extension": ".py",
   "mimetype": "text/x-python",
   "name": "python",
   "nbconvert_exporter": "python",
   "pygments_lexer": "ipython3",
   "version": "3.7.1"
  }
 },
 "nbformat": 4,
 "nbformat_minor": 2
}
