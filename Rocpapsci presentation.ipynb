{
 "cells": [
  {
   "cell_type": "code",
   "execution_count": null,
   "metadata": {},
   "outputs": [],
   "source": [
    "#Import libraries\n",
    "import random\n",
    "\n",
    "user_wins=0\n",
    "computer_wins=0\n",
    "\n",
    "#\n",
    "options = [\"rock\", \"paper\", \"scissors\"]\n",
    "\n",
    "while True:\n",
    "    user_input = input(\"Type Rock/Paper/Scissors or Q to quit:\").lower()\n",
    "    if user_input ==\"q\":\n",
    "        break\n",
    "        \n",
    "    if user_input not in options:\n",
    "        continue\n",
    "        \n",
    "    random_number = random.randint(0, 2)\n",
    "    # rock:-, paper: 1, scissors: 2\n",
    "    computer_pick = options[random_number]\n",
    "    print(\"Computer picked\", computer_pick + '.')\n",
    "    \n",
    "    if user_input == \"rock\" and computer_pick == \"scissors\":\n",
    "        print(\"You won!\")\n",
    "        user_wins += 1\n",
    "        \n",
    "    elif user_input == \"paper\" and computer_pick == \"rock\":\n",
    "        print(\"You won!\")\n",
    "        user_wins += 1\n",
    "      \n",
    "    elif user_input == \"scissors\" and computer_pick == \"paper\":\n",
    "        print(\"You won!\")\n",
    "        user_wins += 1\n",
    "      \n",
    "    else:\n",
    "        print(\"You lost!\")\n",
    "        computer_wins += 1\n",
    "        \n",
    "    print(\"You won\", user_wins, \"times.\")\n",
    "    print(\"The computer won\", computer_wins, \"times.\")\n",
    "    print(\"Goodbye\")\n",
    "    "
   ]
  },
  {
   "cell_type": "code",
   "execution_count": null,
   "metadata": {},
   "outputs": [],
   "source": []
  }
 ],
 "metadata": {
  "kernelspec": {
   "display_name": "Python 3",
   "language": "python",
   "name": "python3"
  },
  "language_info": {
   "codemirror_mode": {
    "name": "ipython",
    "version": 3
   },
   "file_extension": ".py",
   "mimetype": "text/x-python",
   "name": "python",
   "nbconvert_exporter": "python",
   "pygments_lexer": "ipython3",
   "version": "3.7.1"
  }
 },
 "nbformat": 4,
 "nbformat_minor": 2
}
